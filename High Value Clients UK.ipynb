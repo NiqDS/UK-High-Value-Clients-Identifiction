{
 "cells": [
  {
   "cell_type": "code",
   "execution_count": 152,
   "metadata": {},
   "outputs": [
    {
     "name": "stdout",
     "output_type": "stream",
     "text": [
      "Requirement already satisfied: missingno in c:\\programdata\\anaconda3\\lib\\site-packages (0.4.2)\n",
      "Requirement already satisfied: matplotlib in c:\\programdata\\anaconda3\\lib\\site-packages (from missingno) (3.1.0)\n",
      "Requirement already satisfied: numpy in c:\\programdata\\anaconda3\\lib\\site-packages (from missingno) (1.19.4)\n",
      "Requirement already satisfied: scipy in c:\\programdata\\anaconda3\\lib\\site-packages (from missingno) (1.2.1)\n",
      "Requirement already satisfied: seaborn in c:\\programdata\\anaconda3\\lib\\site-packages (from missingno) (0.9.0)\n",
      "Requirement already satisfied: cycler>=0.10 in c:\\programdata\\anaconda3\\lib\\site-packages (from matplotlib->missingno) (0.10.0)\n",
      "Requirement already satisfied: kiwisolver>=1.0.1 in c:\\programdata\\anaconda3\\lib\\site-packages (from matplotlib->missingno) (1.1.0)\n",
      "Requirement already satisfied: pyparsing!=2.0.4,!=2.1.2,!=2.1.6,>=2.0.1 in c:\\programdata\\anaconda3\\lib\\site-packages (from matplotlib->missingno) (2.4.0)\n",
      "Requirement already satisfied: python-dateutil>=2.1 in c:\\programdata\\anaconda3\\lib\\site-packages (from matplotlib->missingno) (2.8.0)\n",
      "Requirement already satisfied: pandas>=0.15.2 in c:\\programdata\\anaconda3\\lib\\site-packages (from seaborn->missingno) (0.24.2)\n",
      "Requirement already satisfied: six in c:\\programdata\\anaconda3\\lib\\site-packages (from cycler>=0.10->matplotlib->missingno) (1.12.0)\n",
      "Requirement already satisfied: setuptools in c:\\programdata\\anaconda3\\lib\\site-packages (from kiwisolver>=1.0.1->matplotlib->missingno) (41.0.1)\n",
      "Requirement already satisfied: pytz>=2011k in c:\\programdata\\anaconda3\\lib\\site-packages (from pandas>=0.15.2->seaborn->missingno) (2019.1)\n"
     ]
    }
   ],
   "source": [
    "# Import Libraries\n",
    "\n",
    "!pip install missingno\n",
    "\n",
    "import pandas as pd\n",
    "import seaborn as sns\n",
    "import missingno as msno\n",
    "\n",
    "from sklearn.preprocessing import MinMaxScaler\n",
    "from sklearn.cluster import KMeans\n",
    "import matplotlib.pyplot as plt\n",
    "from pandasql import sqldf\n",
    "\n",
    "import scipy.cluster.hierarchy as sch\n",
    "from sklearn.cluster import AgglomerativeClustering"
   ]
  },
  {
   "cell_type": "code",
   "execution_count": 153,
   "metadata": {},
   "outputs": [
    {
     "data": {
      "text/html": [
       "<div>\n",
       "<style scoped>\n",
       "    .dataframe tbody tr th:only-of-type {\n",
       "        vertical-align: middle;\n",
       "    }\n",
       "\n",
       "    .dataframe tbody tr th {\n",
       "        vertical-align: top;\n",
       "    }\n",
       "\n",
       "    .dataframe thead th {\n",
       "        text-align: right;\n",
       "    }\n",
       "</style>\n",
       "<table border=\"1\" class=\"dataframe\">\n",
       "  <thead>\n",
       "    <tr style=\"text-align: right;\">\n",
       "      <th></th>\n",
       "      <th>InvoiceNo</th>\n",
       "      <th>StockCode</th>\n",
       "      <th>Description</th>\n",
       "      <th>Quantity</th>\n",
       "      <th>InvoiceDate</th>\n",
       "      <th>UnitPrice</th>\n",
       "      <th>CustomerID</th>\n",
       "      <th>Country</th>\n",
       "      <th>Unnamed: 8</th>\n",
       "    </tr>\n",
       "  </thead>\n",
       "  <tbody>\n",
       "    <tr>\n",
       "      <th>0</th>\n",
       "      <td>536365</td>\n",
       "      <td>85123A</td>\n",
       "      <td>WHITE HANGING HEART T-LIGHT HOLDER</td>\n",
       "      <td>6</td>\n",
       "      <td>29-Nov-16</td>\n",
       "      <td>2.55</td>\n",
       "      <td>17850.0</td>\n",
       "      <td>United Kingdom</td>\n",
       "      <td>NaN</td>\n",
       "    </tr>\n",
       "    <tr>\n",
       "      <th>1</th>\n",
       "      <td>536365</td>\n",
       "      <td>71053</td>\n",
       "      <td>WHITE METAL LANTERN</td>\n",
       "      <td>6</td>\n",
       "      <td>29-Nov-16</td>\n",
       "      <td>3.39</td>\n",
       "      <td>17850.0</td>\n",
       "      <td>United Kingdom</td>\n",
       "      <td>NaN</td>\n",
       "    </tr>\n",
       "    <tr>\n",
       "      <th>2</th>\n",
       "      <td>536365</td>\n",
       "      <td>84406B</td>\n",
       "      <td>CREAM CUPID HEARTS COAT HANGER</td>\n",
       "      <td>8</td>\n",
       "      <td>29-Nov-16</td>\n",
       "      <td>2.75</td>\n",
       "      <td>17850.0</td>\n",
       "      <td>United Kingdom</td>\n",
       "      <td>NaN</td>\n",
       "    </tr>\n",
       "    <tr>\n",
       "      <th>3</th>\n",
       "      <td>536365</td>\n",
       "      <td>84029G</td>\n",
       "      <td>KNITTED UNION FLAG HOT WATER BOTTLE</td>\n",
       "      <td>6</td>\n",
       "      <td>29-Nov-16</td>\n",
       "      <td>3.39</td>\n",
       "      <td>17850.0</td>\n",
       "      <td>United Kingdom</td>\n",
       "      <td>NaN</td>\n",
       "    </tr>\n",
       "    <tr>\n",
       "      <th>4</th>\n",
       "      <td>536365</td>\n",
       "      <td>84029E</td>\n",
       "      <td>RED WOOLLY HOTTIE WHITE HEART.</td>\n",
       "      <td>6</td>\n",
       "      <td>29-Nov-16</td>\n",
       "      <td>3.39</td>\n",
       "      <td>17850.0</td>\n",
       "      <td>United Kingdom</td>\n",
       "      <td>NaN</td>\n",
       "    </tr>\n",
       "  </tbody>\n",
       "</table>\n",
       "</div>"
      ],
      "text/plain": [
       "  InvoiceNo StockCode                          Description  Quantity  \\\n",
       "0    536365    85123A   WHITE HANGING HEART T-LIGHT HOLDER         6   \n",
       "1    536365     71053                  WHITE METAL LANTERN         6   \n",
       "2    536365    84406B       CREAM CUPID HEARTS COAT HANGER         8   \n",
       "3    536365    84029G  KNITTED UNION FLAG HOT WATER BOTTLE         6   \n",
       "4    536365    84029E       RED WOOLLY HOTTIE WHITE HEART.         6   \n",
       "\n",
       "  InvoiceDate  UnitPrice  CustomerID         Country  Unnamed: 8  \n",
       "0   29-Nov-16       2.55     17850.0  United Kingdom         NaN  \n",
       "1   29-Nov-16       3.39     17850.0  United Kingdom         NaN  \n",
       "2   29-Nov-16       2.75     17850.0  United Kingdom         NaN  \n",
       "3   29-Nov-16       3.39     17850.0  United Kingdom         NaN  \n",
       "4   29-Nov-16       3.39     17850.0  United Kingdom         NaN  "
      ]
     },
     "execution_count": 153,
     "metadata": {},
     "output_type": "execute_result"
    }
   ],
   "source": [
    "# Import the Data\n",
    "\n",
    "df = pd.read_csv(r'Ecommerce.csv', encoding = 'unicode_escape')\n",
    "df.head()"
   ]
  },
  {
   "cell_type": "code",
   "execution_count": 154,
   "metadata": {},
   "outputs": [
    {
     "data": {
      "text/html": [
       "<div>\n",
       "<style scoped>\n",
       "    .dataframe tbody tr th:only-of-type {\n",
       "        vertical-align: middle;\n",
       "    }\n",
       "\n",
       "    .dataframe tbody tr th {\n",
       "        vertical-align: top;\n",
       "    }\n",
       "\n",
       "    .dataframe thead th {\n",
       "        text-align: right;\n",
       "    }\n",
       "</style>\n",
       "<table border=\"1\" class=\"dataframe\">\n",
       "  <thead>\n",
       "    <tr style=\"text-align: right;\">\n",
       "      <th></th>\n",
       "      <th>Quantity</th>\n",
       "      <th>UnitPrice</th>\n",
       "      <th>CustomerID</th>\n",
       "      <th>Unnamed: 8</th>\n",
       "    </tr>\n",
       "  </thead>\n",
       "  <tbody>\n",
       "    <tr>\n",
       "      <th>count</th>\n",
       "      <td>541909.000000</td>\n",
       "      <td>541909.000000</td>\n",
       "      <td>406829.000000</td>\n",
       "      <td>0.0</td>\n",
       "    </tr>\n",
       "    <tr>\n",
       "      <th>mean</th>\n",
       "      <td>9.552250</td>\n",
       "      <td>4.611114</td>\n",
       "      <td>15287.690570</td>\n",
       "      <td>NaN</td>\n",
       "    </tr>\n",
       "    <tr>\n",
       "      <th>std</th>\n",
       "      <td>218.081158</td>\n",
       "      <td>96.759853</td>\n",
       "      <td>1713.600303</td>\n",
       "      <td>NaN</td>\n",
       "    </tr>\n",
       "    <tr>\n",
       "      <th>min</th>\n",
       "      <td>-80995.000000</td>\n",
       "      <td>-11062.060000</td>\n",
       "      <td>12346.000000</td>\n",
       "      <td>NaN</td>\n",
       "    </tr>\n",
       "    <tr>\n",
       "      <th>25%</th>\n",
       "      <td>1.000000</td>\n",
       "      <td>1.250000</td>\n",
       "      <td>13953.000000</td>\n",
       "      <td>NaN</td>\n",
       "    </tr>\n",
       "    <tr>\n",
       "      <th>50%</th>\n",
       "      <td>3.000000</td>\n",
       "      <td>2.080000</td>\n",
       "      <td>15152.000000</td>\n",
       "      <td>NaN</td>\n",
       "    </tr>\n",
       "    <tr>\n",
       "      <th>75%</th>\n",
       "      <td>10.000000</td>\n",
       "      <td>4.130000</td>\n",
       "      <td>16791.000000</td>\n",
       "      <td>NaN</td>\n",
       "    </tr>\n",
       "    <tr>\n",
       "      <th>max</th>\n",
       "      <td>80995.000000</td>\n",
       "      <td>38970.000000</td>\n",
       "      <td>18287.000000</td>\n",
       "      <td>NaN</td>\n",
       "    </tr>\n",
       "  </tbody>\n",
       "</table>\n",
       "</div>"
      ],
      "text/plain": [
       "            Quantity      UnitPrice     CustomerID  Unnamed: 8\n",
       "count  541909.000000  541909.000000  406829.000000         0.0\n",
       "mean        9.552250       4.611114   15287.690570         NaN\n",
       "std       218.081158      96.759853    1713.600303         NaN\n",
       "min    -80995.000000  -11062.060000   12346.000000         NaN\n",
       "25%         1.000000       1.250000   13953.000000         NaN\n",
       "50%         3.000000       2.080000   15152.000000         NaN\n",
       "75%        10.000000       4.130000   16791.000000         NaN\n",
       "max     80995.000000   38970.000000   18287.000000         NaN"
      ]
     },
     "execution_count": 154,
     "metadata": {},
     "output_type": "execute_result"
    }
   ],
   "source": [
    "#  Let`s see what the data looks like with the describe() function\n",
    "df.describe()"
   ]
  },
  {
   "cell_type": "code",
   "execution_count": 155,
   "metadata": {
    "scrolled": true
   },
   "outputs": [
    {
     "name": "stdout",
     "output_type": "stream",
     "text": [
      "Missing values:\n",
      "Description      1454\n",
      "CustomerID     135080\n",
      "Unnamed: 8     541909\n",
      "dtype: int64\n",
      "Null values:\n",
      "Description      1454\n",
      "CustomerID     135080\n",
      "Unnamed: 8     541909\n",
      "dtype: int64\n"
     ]
    }
   ],
   "source": [
    "# Checking the missing values\n",
    "\n",
    "miss_values = df.columns[df.isnull().any()]\n",
    "print(f\"Missing values:\\n{df[miss_values].isnull().sum()}\")\n",
    "\n",
    "null_values = df.columns[df.isna().any()]\n",
    "print(f\"Null values:\\n{df[null_values].isna().sum()}\")"
   ]
  },
  {
   "cell_type": "code",
   "execution_count": 157,
   "metadata": {
    "scrolled": false
   },
   "outputs": [
    {
     "data": {
      "image/png": "[encoded data removed]",
      "text/plain": [
       "<Figure size 1728x720 with 3 Axes>"
      ]
     },
     "metadata": {
      "needs_background": "light"
     },
     "output_type": "display_data"
    }
   ],
   "source": [
    "# Since there are missing values in the dataset, it will be a good idea to see, which columns are affected and will it be a problem for our analysis\n",
    "\n",
    "null_plot = msno.bar(df, color = \"#5F9EA0\")"
   ]
  },
  {
   "cell_type": "code",
   "execution_count": 60,
   "metadata": {
    "scrolled": false
   },
   "outputs": [
    {
     "data": {
      "image/png": "[encoded data removed]",
      "text/plain": [
       "<Figure size 720x720 with 4 Axes>"
      ]
     },
     "metadata": {
      "needs_background": "light"
     },
     "output_type": "display_data"
    }
   ],
   "source": [
    "df_hist_plot = df.hist(figsize = (10,10), color = \"#5F9EA0\")"
   ]
  },
  {
   "cell_type": "code",
   "execution_count": 158,
   "metadata": {
    "scrolled": false
   },
   "outputs": [
    {
     "data": {
      "text/html": [
       "<div>\n",
       "<style scoped>\n",
       "    .dataframe tbody tr th:only-of-type {\n",
       "        vertical-align: middle;\n",
       "    }\n",
       "\n",
       "    .dataframe tbody tr th {\n",
       "        vertical-align: top;\n",
       "    }\n",
       "\n",
       "    .dataframe thead th {\n",
       "        text-align: right;\n",
       "    }\n",
       "</style>\n",
       "<table border=\"1\" class=\"dataframe\">\n",
       "  <thead>\n",
       "    <tr style=\"text-align: right;\">\n",
       "      <th></th>\n",
       "      <th>CustomerID</th>\n",
       "      <th>Country</th>\n",
       "      <th>Sales_Country</th>\n",
       "      <th>Total_Revenue</th>\n",
       "      <th>Total_Items_Sold</th>\n",
       "    </tr>\n",
       "  </thead>\n",
       "  <tbody>\n",
       "    <tr>\n",
       "      <th>0</th>\n",
       "      <td>NaN</td>\n",
       "      <td>United Kingdom</td>\n",
       "      <td>135078</td>\n",
       "      <td>1113108.13</td>\n",
       "      <td>269560</td>\n",
       "    </tr>\n",
       "    <tr>\n",
       "      <th>1</th>\n",
       "      <td>12346.0</td>\n",
       "      <td>United Kingdom</td>\n",
       "      <td>2</td>\n",
       "      <td>2.08</td>\n",
       "      <td>0</td>\n",
       "    </tr>\n",
       "    <tr>\n",
       "      <th>2</th>\n",
       "      <td>12347.0</td>\n",
       "      <td>Iceland</td>\n",
       "      <td>182</td>\n",
       "      <td>481.21</td>\n",
       "      <td>2458</td>\n",
       "    </tr>\n",
       "    <tr>\n",
       "      <th>3</th>\n",
       "      <td>12348.0</td>\n",
       "      <td>Finland</td>\n",
       "      <td>31</td>\n",
       "      <td>178.71</td>\n",
       "      <td>2341</td>\n",
       "    </tr>\n",
       "    <tr>\n",
       "      <th>4</th>\n",
       "      <td>12349.0</td>\n",
       "      <td>Italy</td>\n",
       "      <td>73</td>\n",
       "      <td>605.10</td>\n",
       "      <td>631</td>\n",
       "    </tr>\n",
       "    <tr>\n",
       "      <th>5</th>\n",
       "      <td>12350.0</td>\n",
       "      <td>Norway</td>\n",
       "      <td>17</td>\n",
       "      <td>65.30</td>\n",
       "      <td>197</td>\n",
       "    </tr>\n",
       "    <tr>\n",
       "      <th>6</th>\n",
       "      <td>12352.0</td>\n",
       "      <td>Norway</td>\n",
       "      <td>95</td>\n",
       "      <td>2211.10</td>\n",
       "      <td>470</td>\n",
       "    </tr>\n",
       "    <tr>\n",
       "      <th>7</th>\n",
       "      <td>12353.0</td>\n",
       "      <td>Bahrain</td>\n",
       "      <td>4</td>\n",
       "      <td>24.30</td>\n",
       "      <td>20</td>\n",
       "    </tr>\n",
       "    <tr>\n",
       "      <th>8</th>\n",
       "      <td>12354.0</td>\n",
       "      <td>Spain</td>\n",
       "      <td>58</td>\n",
       "      <td>261.22</td>\n",
       "      <td>530</td>\n",
       "    </tr>\n",
       "    <tr>\n",
       "      <th>9</th>\n",
       "      <td>12355.0</td>\n",
       "      <td>Bahrain</td>\n",
       "      <td>13</td>\n",
       "      <td>54.65</td>\n",
       "      <td>240</td>\n",
       "    </tr>\n",
       "  </tbody>\n",
       "</table>\n",
       "</div>"
      ],
      "text/plain": [
       "   CustomerID         Country  Sales_Country  Total_Revenue  Total_Items_Sold\n",
       "0         NaN  United Kingdom         135078     1113108.13            269560\n",
       "1     12346.0  United Kingdom              2           2.08                 0\n",
       "2     12347.0         Iceland            182         481.21              2458\n",
       "3     12348.0         Finland             31         178.71              2341\n",
       "4     12349.0           Italy             73         605.10               631\n",
       "5     12350.0          Norway             17          65.30               197\n",
       "6     12352.0          Norway             95        2211.10               470\n",
       "7     12353.0         Bahrain              4          24.30                20\n",
       "8     12354.0           Spain             58         261.22               530\n",
       "9     12355.0         Bahrain             13          54.65               240"
      ]
     },
     "execution_count": 158,
     "metadata": {},
     "output_type": "execute_result"
    }
   ],
   "source": [
    "# We filter the table to see where the bulk of the NaN values are and their impact on the output.\n",
    "# Clearly from the new table and the histogram the results are biased.\n",
    "\n",
    "sales = sqldf(\"SELECT CustomerID, COUNTRY, COUNT(COUNTRY) AS Sales_Country, SUM(UNITPRICE) AS Total_Revenue, SUM(QUANTITY) AS Total_Items_Sold FROM df WHERE UNITPRICE >= '0' group by CustomerID;\")\n",
    "sales.head(10)"
   ]
  },
  {
   "cell_type": "code",
   "execution_count": 62,
   "metadata": {
    "scrolled": false
   },
   "outputs": [
    {
     "data": {
      "image/png": "[encoded data removed]",
      "text/plain": [
       "<Figure size 720x720 with 4 Axes>"
      ]
     },
     "metadata": {
      "needs_background": "light"
     },
     "output_type": "display_data"
    }
   ],
   "source": [
    "sales_hist_plot = sales.hist(figsize = (10,10), color = \"#5F9EA0\")"
   ]
  },
  {
   "cell_type": "code",
   "execution_count": 63,
   "metadata": {},
   "outputs": [
    {
     "data": {
      "text/html": [
       "<div>\n",
       "<style scoped>\n",
       "    .dataframe tbody tr th:only-of-type {\n",
       "        vertical-align: middle;\n",
       "    }\n",
       "\n",
       "    .dataframe tbody tr th {\n",
       "        vertical-align: top;\n",
       "    }\n",
       "\n",
       "    .dataframe thead th {\n",
       "        text-align: right;\n",
       "    }\n",
       "</style>\n",
       "<table border=\"1\" class=\"dataframe\">\n",
       "  <thead>\n",
       "    <tr style=\"text-align: right;\">\n",
       "      <th></th>\n",
       "      <th>CustomerID</th>\n",
       "      <th>Country</th>\n",
       "      <th>Sales_Country</th>\n",
       "      <th>Total_Revenue</th>\n",
       "      <th>Total_Items_Sold</th>\n",
       "    </tr>\n",
       "  </thead>\n",
       "  <tbody>\n",
       "    <tr>\n",
       "      <th>0</th>\n",
       "      <td>NaN</td>\n",
       "      <td>United Kingdom</td>\n",
       "      <td>135078</td>\n",
       "      <td>1113108.13</td>\n",
       "      <td>269560</td>\n",
       "    </tr>\n",
       "    <tr>\n",
       "      <th>1</th>\n",
       "      <td>14646.0</td>\n",
       "      <td>Netherlands</td>\n",
       "      <td>2085</td>\n",
       "      <td>5400.21</td>\n",
       "      <td>196719</td>\n",
       "    </tr>\n",
       "    <tr>\n",
       "      <th>2</th>\n",
       "      <td>12415.0</td>\n",
       "      <td>Australia</td>\n",
       "      <td>778</td>\n",
       "      <td>2499.82</td>\n",
       "      <td>77242</td>\n",
       "    </tr>\n",
       "    <tr>\n",
       "      <th>3</th>\n",
       "      <td>14911.0</td>\n",
       "      <td>EIRE</td>\n",
       "      <td>5903</td>\n",
       "      <td>31060.66</td>\n",
       "      <td>77180</td>\n",
       "    </tr>\n",
       "    <tr>\n",
       "      <th>4</th>\n",
       "      <td>17450.0</td>\n",
       "      <td>United Kingdom</td>\n",
       "      <td>351</td>\n",
       "      <td>3320.09</td>\n",
       "      <td>69029</td>\n",
       "    </tr>\n",
       "    <tr>\n",
       "      <th>5</th>\n",
       "      <td>18102.0</td>\n",
       "      <td>United Kingdom</td>\n",
       "      <td>433</td>\n",
       "      <td>5159.73</td>\n",
       "      <td>64122</td>\n",
       "    </tr>\n",
       "    <tr>\n",
       "      <th>6</th>\n",
       "      <td>17511.0</td>\n",
       "      <td>United Kingdom</td>\n",
       "      <td>1076</td>\n",
       "      <td>2607.08</td>\n",
       "      <td>63012</td>\n",
       "    </tr>\n",
       "    <tr>\n",
       "      <th>7</th>\n",
       "      <td>13694.0</td>\n",
       "      <td>United Kingdom</td>\n",
       "      <td>585</td>\n",
       "      <td>1163.81</td>\n",
       "      <td>61803</td>\n",
       "    </tr>\n",
       "    <tr>\n",
       "      <th>8</th>\n",
       "      <td>14298.0</td>\n",
       "      <td>United Kingdom</td>\n",
       "      <td>1640</td>\n",
       "      <td>2455.50</td>\n",
       "      <td>58021</td>\n",
       "    </tr>\n",
       "    <tr>\n",
       "      <th>9</th>\n",
       "      <td>14156.0</td>\n",
       "      <td>EIRE</td>\n",
       "      <td>1420</td>\n",
       "      <td>6544.29</td>\n",
       "      <td>57025</td>\n",
       "    </tr>\n",
       "    <tr>\n",
       "      <th>10</th>\n",
       "      <td>16684.0</td>\n",
       "      <td>United Kingdom</td>\n",
       "      <td>281</td>\n",
       "      <td>709.93</td>\n",
       "      <td>49390</td>\n",
       "    </tr>\n",
       "    <tr>\n",
       "      <th>11</th>\n",
       "      <td>15311.0</td>\n",
       "      <td>United Kingdom</td>\n",
       "      <td>2491</td>\n",
       "      <td>6267.75</td>\n",
       "      <td>37720</td>\n",
       "    </tr>\n",
       "    <tr>\n",
       "      <th>12</th>\n",
       "      <td>16422.0</td>\n",
       "      <td>United Kingdom</td>\n",
       "      <td>399</td>\n",
       "      <td>1248.75</td>\n",
       "      <td>32592</td>\n",
       "    </tr>\n",
       "    <tr>\n",
       "      <th>13</th>\n",
       "      <td>17404.0</td>\n",
       "      <td>Sweden</td>\n",
       "      <td>201</td>\n",
       "      <td>446.55</td>\n",
       "      <td>32324</td>\n",
       "    </tr>\n",
       "    <tr>\n",
       "      <th>14</th>\n",
       "      <td>16333.0</td>\n",
       "      <td>United Kingdom</td>\n",
       "      <td>45</td>\n",
       "      <td>47.98</td>\n",
       "      <td>32184</td>\n",
       "    </tr>\n",
       "    <tr>\n",
       "      <th>15</th>\n",
       "      <td>16029.0</td>\n",
       "      <td>United Kingdom</td>\n",
       "      <td>274</td>\n",
       "      <td>24111.14</td>\n",
       "      <td>32148</td>\n",
       "    </tr>\n",
       "    <tr>\n",
       "      <th>16</th>\n",
       "      <td>13089.0</td>\n",
       "      <td>United Kingdom</td>\n",
       "      <td>1857</td>\n",
       "      <td>5166.45</td>\n",
       "      <td>30787</td>\n",
       "    </tr>\n",
       "    <tr>\n",
       "      <th>17</th>\n",
       "      <td>15061.0</td>\n",
       "      <td>United Kingdom</td>\n",
       "      <td>410</td>\n",
       "      <td>1043.84</td>\n",
       "      <td>28590</td>\n",
       "    </tr>\n",
       "    <tr>\n",
       "      <th>18</th>\n",
       "      <td>15769.0</td>\n",
       "      <td>United Kingdom</td>\n",
       "      <td>147</td>\n",
       "      <td>300.67</td>\n",
       "      <td>27660</td>\n",
       "    </tr>\n",
       "    <tr>\n",
       "      <th>19</th>\n",
       "      <td>17949.0</td>\n",
       "      <td>United Kingdom</td>\n",
       "      <td>79</td>\n",
       "      <td>727.33</td>\n",
       "      <td>27571</td>\n",
       "    </tr>\n",
       "    <tr>\n",
       "      <th>20</th>\n",
       "      <td>17381.0</td>\n",
       "      <td>United Kingdom</td>\n",
       "      <td>110</td>\n",
       "      <td>146.61</td>\n",
       "      <td>25646</td>\n",
       "    </tr>\n",
       "    <tr>\n",
       "      <th>21</th>\n",
       "      <td>12748.0</td>\n",
       "      <td>United Kingdom</td>\n",
       "      <td>4642</td>\n",
       "      <td>15115.60</td>\n",
       "      <td>24210</td>\n",
       "    </tr>\n",
       "    <tr>\n",
       "      <th>22</th>\n",
       "      <td>13798.0</td>\n",
       "      <td>United Kingdom</td>\n",
       "      <td>439</td>\n",
       "      <td>907.66</td>\n",
       "      <td>23514</td>\n",
       "    </tr>\n",
       "    <tr>\n",
       "      <th>23</th>\n",
       "      <td>12931.0</td>\n",
       "      <td>United Kingdom</td>\n",
       "      <td>102</td>\n",
       "      <td>175.53</td>\n",
       "      <td>23377</td>\n",
       "    </tr>\n",
       "    <tr>\n",
       "      <th>24</th>\n",
       "      <td>17841.0</td>\n",
       "      <td>United Kingdom</td>\n",
       "      <td>7983</td>\n",
       "      <td>20333.18</td>\n",
       "      <td>22865</td>\n",
       "    </tr>\n",
       "  </tbody>\n",
       "</table>\n",
       "</div>"
      ],
      "text/plain": [
       "    CustomerID         Country  Sales_Country  Total_Revenue  Total_Items_Sold\n",
       "0          NaN  United Kingdom         135078     1113108.13            269560\n",
       "1      14646.0     Netherlands           2085        5400.21            196719\n",
       "2      12415.0       Australia            778        2499.82             77242\n",
       "3      14911.0            EIRE           5903       31060.66             77180\n",
       "4      17450.0  United Kingdom            351        3320.09             69029\n",
       "5      18102.0  United Kingdom            433        5159.73             64122\n",
       "6      17511.0  United Kingdom           1076        2607.08             63012\n",
       "7      13694.0  United Kingdom            585        1163.81             61803\n",
       "8      14298.0  United Kingdom           1640        2455.50             58021\n",
       "9      14156.0            EIRE           1420        6544.29             57025\n",
       "10     16684.0  United Kingdom            281         709.93             49390\n",
       "11     15311.0  United Kingdom           2491        6267.75             37720\n",
       "12     16422.0  United Kingdom            399        1248.75             32592\n",
       "13     17404.0          Sweden            201         446.55             32324\n",
       "14     16333.0  United Kingdom             45          47.98             32184\n",
       "15     16029.0  United Kingdom            274       24111.14             32148\n",
       "16     13089.0  United Kingdom           1857        5166.45             30787\n",
       "17     15061.0  United Kingdom            410        1043.84             28590\n",
       "18     15769.0  United Kingdom            147         300.67             27660\n",
       "19     17949.0  United Kingdom             79         727.33             27571\n",
       "20     17381.0  United Kingdom            110         146.61             25646\n",
       "21     12748.0  United Kingdom           4642       15115.60             24210\n",
       "22     13798.0  United Kingdom            439         907.66             23514\n",
       "23     12931.0  United Kingdom            102         175.53             23377\n",
       "24     17841.0  United Kingdom           7983       20333.18             22865"
      ]
     },
     "execution_count": 63,
     "metadata": {},
     "output_type": "execute_result"
    }
   ],
   "source": [
    "# Total revenue from NaN values makes a huge bias, that needs to be cleared.\n",
    "\n",
    "top_sales = sqldf(\"SELECT * FROM sales order by Total_Items_Sold desc;\")\n",
    "top_sales.head(25)"
   ]
  },
  {
   "cell_type": "code",
   "execution_count": 159,
   "metadata": {},
   "outputs": [
    {
     "data": {
      "image/png": "[encoded data removed]",
      "text/plain": [
       "<Figure size 720x720 with 4 Axes>"
      ]
     },
     "metadata": {
      "needs_background": "light"
     },
     "output_type": "display_data"
    }
   ],
   "source": [
    "# After dropping NaN values, the values are more evenly spread now, apart from some outliers.\n",
    "\n",
    "eliminated_na = top_sales.dropna()\n",
    "eliminated_na.head()\n",
    "eliminated_na_hist_plot = eliminated_na.hist(figsize = (10,10), color = \"#5F9EA0\")"
   ]
  },
  {
   "cell_type": "code",
   "execution_count": 65,
   "metadata": {
    "scrolled": false
   },
   "outputs": [
    {
     "data": {
      "image/png": "[encoded data removed]",
      "text/plain": [
       "<Figure size 720x720 with 4 Axes>"
      ]
     },
     "metadata": {
      "needs_background": "light"
     },
     "output_type": "display_data"
    }
   ],
   "source": [
    "eliminated_na_hist_plot = eliminated_na.hist(figsize = (10,10), color = \"#5F9EA0\")"
   ]
  },
  {
   "cell_type": "code",
   "execution_count": 120,
   "metadata": {},
   "outputs": [
    {
     "data": {
      "text/plain": [
       "<matplotlib.collections.PathCollection at 0x1cb00d88358>"
      ]
     },
     "execution_count": 120,
     "metadata": {},
     "output_type": "execute_result"
    },
    {
     "data": {
      "image/png": "[encoded data removed]",
      "text/plain": [
       "<Figure size 432x288 with 1 Axes>"
      ]
     },
     "metadata": {
      "needs_background": "light"
     },
     "output_type": "display_data"
    }
   ],
   "source": [
    "# Let`s see how the results will be clustering on a graph.\n",
    "\n",
    "clustering = eliminated_na[[\"CustomerID\", \"Sales_Country\", \"Total_Revenue\", \"Total_Items_Sold\"]]\n",
    "clustering.head()\n",
    "plt.scatter(clustering[\"Total_Items_Sold\"], clustering[\"Total_Revenue\"])"
   ]
  },
  {
   "cell_type": "code",
   "execution_count": 160,
   "metadata": {},
   "outputs": [
    {
     "data": {
      "text/plain": [
       "<matplotlib.collections.PathCollection at 0x1cb0762f080>"
      ]
     },
     "execution_count": 160,
     "metadata": {},
     "output_type": "execute_result"
    },
    {
     "data": {
      "image/png": "[encoded data removed]",
      "text/plain": [
       "<Figure size 432x288 with 1 Axes>"
      ]
     },
     "metadata": {
      "needs_background": "light"
     },
     "output_type": "display_data"
    }
   ],
   "source": [
    "# The bulk of the values are stuck around the (0.0) point of the graph. To help with the better finds the cluster centers, we will set limitations to the top values of revenue and sales.\n",
    "\n",
    "clustering = sqldf(\"SELECT * FROM clustering WHERE Total_Revenue < '30000' AND Total_Items_Sold < 100000;\")\n",
    "plt.scatter(clustering[\"Total_Items_Sold\"], clustering[\"Total_Revenue\"])"
   ]
  },
  {
   "cell_type": "code",
   "execution_count": 161,
   "metadata": {},
   "outputs": [],
   "source": [
    "# We use Elbow method to find the best number of K - clusters.\n",
    "\n",
    "Sum_of_squared_distances = []\n",
    "K = range(1,15)\n",
    "for k in K:\n",
    "    km = KMeans(n_clusters=k)\n",
    "    km = km.fit(clustering)\n",
    "    Sum_of_squared_distances.append(km.inertia_)"
   ]
  },
  {
   "cell_type": "code",
   "execution_count": 123,
   "metadata": {},
   "outputs": [
    {
     "data": {
      "image/png": "[encoded data removed]",
      "text/plain": [
       "<Figure size 432x288 with 1 Axes>"
      ]
     },
     "metadata": {
      "needs_background": "light"
     },
     "output_type": "display_data"
    },
    {
     "name": "stdout",
     "output_type": "stream",
     "text": [
      "[[1.75492669e+04 4.90199336e+01 1.56773167e+02 3.63101883e+02]\n",
      " [1.45904241e+04 5.96089744e+01 1.83797918e+02 4.82134615e+02]\n",
      " [1.60798889e+04 6.37666667e+02 1.71065889e+03 3.05637778e+04]\n",
      " [1.49325000e+04 5.64500000e+02 2.90995500e+03 7.31355000e+04]\n",
      " [1.36070367e+04 2.47555102e+02 7.73573184e+02 2.90870612e+03]\n",
      " [1.47057674e+04 3.37720930e+02 1.11689837e+03 9.20976744e+03]\n",
      " [1.30869713e+04 4.97165605e+01 1.81156158e+02 4.72366242e+02]\n",
      " [1.57408333e+04 9.05833333e+02 3.10672333e+03 5.88955000e+04]\n",
      " [1.62220845e+04 4.09647887e+02 1.26293915e+03 5.14866197e+03]\n",
      " [1.69205000e+04 2.44964844e+02 6.67415977e+02 2.07644922e+03]\n",
      " [1.37626250e+04 3.64375000e+02 9.57571250e+02 1.94028750e+04]\n",
      " [1.55393333e+04 4.29966667e+03 1.98533067e+04 2.64076667e+04]\n",
      " [1.60290573e+04 5.43821656e+01 1.71904174e+02 3.92395966e+02]\n",
      " [1.26400000e+04 2.51000000e+02 1.91820550e+04 3.94300000e+03]]\n"
     ]
    }
   ],
   "source": [
    "plt.plot(K, Sum_of_squared_distances, 'bx-')\n",
    "plt.xlabel('k')\n",
    "plt.ylabel('Sum_of_squared_distances')\n",
    "plt.title('Elbow Method For Optimal k')\n",
    "plt.show()\n",
    "\n",
    "print(km.cluster_centers_)"
   ]
  },
  {
   "cell_type": "code",
   "execution_count": 172,
   "metadata": {},
   "outputs": [
    {
     "data": {
      "text/plain": [
       "array([1, 1, 1, ..., 0, 0, 0])"
      ]
     },
     "execution_count": 172,
     "metadata": {},
     "output_type": "execute_result"
    }
   ],
   "source": [
    "# We create an array with the columns with most weight to predict the clusters.\n",
    "\n",
    "km = KMeans(n_clusters=6)\n",
    "points = clustering[[\"Total_Items_Sold\", \"Total_Revenue\"]].to_numpy()\n",
    "y_km = km.fit_predict(points)\n",
    "y_km"
   ]
  },
  {
   "cell_type": "code",
   "execution_count": 173,
   "metadata": {},
   "outputs": [
    {
     "data": {
      "text/plain": [
       "Text(0.5, 1.0, 'Clustering the Customers')"
      ]
     },
     "execution_count": 173,
     "metadata": {},
     "output_type": "execute_result"
    },
    {
     "data": {
      "image/png": "[encoded data removed]",
      "text/plain": [
       "<Figure size 432x288 with 1 Axes>"
      ]
     },
     "metadata": {
      "needs_background": "light"
     },
     "output_type": "display_data"
    }
   ],
   "source": [
    "plt.scatter(points[y_km ==0,0], points[y_km == 0,1], s=100, c='red')\n",
    "plt.scatter(points[y_km ==1,0], points[y_km == 1,1], s=100, c='black')\n",
    "plt.scatter(points[y_km ==2,0], points[y_km == 2,1], s=100, c='blue')\n",
    "plt.scatter(points[y_km ==3,0], points[y_km == 3,1], s=100, c='green')\n",
    "plt.scatter(points[y_km ==4,0], points[y_km == 4,1], s=100, c='yellow')\n",
    "plt.scatter(points[y_km ==5,0], points[y_km == 5,1], s=100, c='pink')\n",
    "\n",
    "plt.xlabel('Total Items Sold')\n",
    "plt.ylabel('Total Revenue')\n",
    "plt.title('Clustering the Customers')"
   ]
  },
  {
   "cell_type": "code",
   "execution_count": 175,
   "metadata": {},
   "outputs": [
    {
     "data": {
      "image/png": "[encoded data removed]",
      "text/plain": [
       "<Figure size 432x288 with 1 Axes>"
      ]
     },
     "metadata": {
      "needs_background": "light"
     },
     "output_type": "display_data"
    }
   ],
   "source": [
    "# create dendrogram\n",
    "dendrogram = sch.dendrogram(sch.linkage(points, method='ward'))\n",
    "# create clusters\n",
    "hc = AgglomerativeClustering(n_clusters=6, affinity = 'euclidean', linkage = 'ward')\n",
    "# save clusters for chart\n",
    "y_hc = hc.fit_predict(points)"
   ]
  },
  {
   "cell_type": "code",
   "execution_count": 176,
   "metadata": {},
   "outputs": [
    {
     "data": {
      "text/plain": [
       "Text(0.5, 1.0, 'Clustering the Customers')"
      ]
     },
     "execution_count": 176,
     "metadata": {},
     "output_type": "execute_result"
    },
    {
     "data": {
      "image/png": "[encoded data removed]",
      "text/plain": [
       "<Figure size 432x288 with 1 Axes>"
      ]
     },
     "metadata": {
      "needs_background": "light"
     },
     "output_type": "display_data"
    }
   ],
   "source": [
    "plt.scatter(points[y_hc ==0,0], points[y_hc == 0,1], s=100, c='red')\n",
    "plt.scatter(points[y_hc==1,0], points[y_hc == 1,1], s=100, c='black')\n",
    "plt.scatter(points[y_hc ==2,0], points[y_hc == 2,1], s=100, c='blue')\n",
    "plt.scatter(points[y_hc ==3,0], points[y_hc == 3,1], s=100, c='green')\n",
    "plt.scatter(points[y_hc ==4,0], points[y_hc == 4,1], s=100, c='yellow')\n",
    "plt.scatter(points[y_hc ==5,0], points[y_hc == 5,1], s=100, c='pink')\n",
    "\n",
    "plt.xlabel('Total Items Sold')\n",
    "plt.ylabel('Total Revenue')\n",
    "plt.title('Clustering the Customers')"
   ]
  },
  {
   "cell_type": "code",
   "execution_count": 177,
   "metadata": {},
   "outputs": [
    {
     "data": {
      "text/html": [
       "<div>\n",
       "<style scoped>\n",
       "    .dataframe tbody tr th:only-of-type {\n",
       "        vertical-align: middle;\n",
       "    }\n",
       "\n",
       "    .dataframe tbody tr th {\n",
       "        vertical-align: top;\n",
       "    }\n",
       "\n",
       "    .dataframe thead th {\n",
       "        text-align: right;\n",
       "    }\n",
       "</style>\n",
       "<table border=\"1\" class=\"dataframe\">\n",
       "  <thead>\n",
       "    <tr style=\"text-align: right;\">\n",
       "      <th></th>\n",
       "      <th>CustomerID</th>\n",
       "      <th>Sales_Country</th>\n",
       "      <th>Total_Revenue</th>\n",
       "      <th>Total_Items_Sold</th>\n",
       "      <th>cluster</th>\n",
       "    </tr>\n",
       "  </thead>\n",
       "  <tbody>\n",
       "    <tr>\n",
       "      <th>0</th>\n",
       "      <td>12415.0</td>\n",
       "      <td>778</td>\n",
       "      <td>2499.82</td>\n",
       "      <td>77242</td>\n",
       "      <td>1</td>\n",
       "    </tr>\n",
       "    <tr>\n",
       "      <th>1</th>\n",
       "      <td>17450.0</td>\n",
       "      <td>351</td>\n",
       "      <td>3320.09</td>\n",
       "      <td>69029</td>\n",
       "      <td>1</td>\n",
       "    </tr>\n",
       "    <tr>\n",
       "      <th>2</th>\n",
       "      <td>18102.0</td>\n",
       "      <td>433</td>\n",
       "      <td>5159.73</td>\n",
       "      <td>64122</td>\n",
       "      <td>1</td>\n",
       "    </tr>\n",
       "    <tr>\n",
       "      <th>3</th>\n",
       "      <td>17511.0</td>\n",
       "      <td>1076</td>\n",
       "      <td>2607.08</td>\n",
       "      <td>63012</td>\n",
       "      <td>1</td>\n",
       "    </tr>\n",
       "    <tr>\n",
       "      <th>4</th>\n",
       "      <td>13694.0</td>\n",
       "      <td>585</td>\n",
       "      <td>1163.81</td>\n",
       "      <td>61803</td>\n",
       "      <td>1</td>\n",
       "    </tr>\n",
       "    <tr>\n",
       "      <th>5</th>\n",
       "      <td>14298.0</td>\n",
       "      <td>1640</td>\n",
       "      <td>2455.50</td>\n",
       "      <td>58021</td>\n",
       "      <td>1</td>\n",
       "    </tr>\n",
       "    <tr>\n",
       "      <th>6</th>\n",
       "      <td>14156.0</td>\n",
       "      <td>1420</td>\n",
       "      <td>6544.29</td>\n",
       "      <td>57025</td>\n",
       "      <td>1</td>\n",
       "    </tr>\n",
       "    <tr>\n",
       "      <th>7</th>\n",
       "      <td>16684.0</td>\n",
       "      <td>281</td>\n",
       "      <td>709.93</td>\n",
       "      <td>49390</td>\n",
       "      <td>1</td>\n",
       "    </tr>\n",
       "    <tr>\n",
       "      <th>8</th>\n",
       "      <td>15311.0</td>\n",
       "      <td>2491</td>\n",
       "      <td>6267.75</td>\n",
       "      <td>37720</td>\n",
       "      <td>2</td>\n",
       "    </tr>\n",
       "    <tr>\n",
       "      <th>9</th>\n",
       "      <td>16422.0</td>\n",
       "      <td>399</td>\n",
       "      <td>1248.75</td>\n",
       "      <td>32592</td>\n",
       "      <td>2</td>\n",
       "    </tr>\n",
       "    <tr>\n",
       "      <th>10</th>\n",
       "      <td>17404.0</td>\n",
       "      <td>201</td>\n",
       "      <td>446.55</td>\n",
       "      <td>32324</td>\n",
       "      <td>2</td>\n",
       "    </tr>\n",
       "    <tr>\n",
       "      <th>11</th>\n",
       "      <td>16333.0</td>\n",
       "      <td>45</td>\n",
       "      <td>47.98</td>\n",
       "      <td>32184</td>\n",
       "      <td>2</td>\n",
       "    </tr>\n",
       "    <tr>\n",
       "      <th>12</th>\n",
       "      <td>16029.0</td>\n",
       "      <td>274</td>\n",
       "      <td>24111.14</td>\n",
       "      <td>32148</td>\n",
       "      <td>5</td>\n",
       "    </tr>\n",
       "    <tr>\n",
       "      <th>13</th>\n",
       "      <td>13089.0</td>\n",
       "      <td>1857</td>\n",
       "      <td>5166.45</td>\n",
       "      <td>30787</td>\n",
       "      <td>2</td>\n",
       "    </tr>\n",
       "    <tr>\n",
       "      <th>14</th>\n",
       "      <td>15061.0</td>\n",
       "      <td>410</td>\n",
       "      <td>1043.84</td>\n",
       "      <td>28590</td>\n",
       "      <td>2</td>\n",
       "    </tr>\n",
       "    <tr>\n",
       "      <th>15</th>\n",
       "      <td>15769.0</td>\n",
       "      <td>147</td>\n",
       "      <td>300.67</td>\n",
       "      <td>27660</td>\n",
       "      <td>2</td>\n",
       "    </tr>\n",
       "    <tr>\n",
       "      <th>16</th>\n",
       "      <td>17949.0</td>\n",
       "      <td>79</td>\n",
       "      <td>727.33</td>\n",
       "      <td>27571</td>\n",
       "      <td>2</td>\n",
       "    </tr>\n",
       "    <tr>\n",
       "      <th>17</th>\n",
       "      <td>17381.0</td>\n",
       "      <td>110</td>\n",
       "      <td>146.61</td>\n",
       "      <td>25646</td>\n",
       "      <td>2</td>\n",
       "    </tr>\n",
       "    <tr>\n",
       "      <th>18</th>\n",
       "      <td>12748.0</td>\n",
       "      <td>4642</td>\n",
       "      <td>15115.60</td>\n",
       "      <td>24210</td>\n",
       "      <td>5</td>\n",
       "    </tr>\n",
       "    <tr>\n",
       "      <th>19</th>\n",
       "      <td>13798.0</td>\n",
       "      <td>439</td>\n",
       "      <td>907.66</td>\n",
       "      <td>23514</td>\n",
       "      <td>2</td>\n",
       "    </tr>\n",
       "    <tr>\n",
       "      <th>20</th>\n",
       "      <td>12931.0</td>\n",
       "      <td>102</td>\n",
       "      <td>175.53</td>\n",
       "      <td>23377</td>\n",
       "      <td>2</td>\n",
       "    </tr>\n",
       "    <tr>\n",
       "      <th>21</th>\n",
       "      <td>17841.0</td>\n",
       "      <td>7983</td>\n",
       "      <td>20333.18</td>\n",
       "      <td>22865</td>\n",
       "      <td>5</td>\n",
       "    </tr>\n",
       "    <tr>\n",
       "      <th>22</th>\n",
       "      <td>12901.0</td>\n",
       "      <td>125</td>\n",
       "      <td>189.19</td>\n",
       "      <td>20915</td>\n",
       "      <td>2</td>\n",
       "    </tr>\n",
       "    <tr>\n",
       "      <th>23</th>\n",
       "      <td>17857.0</td>\n",
       "      <td>56</td>\n",
       "      <td>559.76</td>\n",
       "      <td>19086</td>\n",
       "      <td>2</td>\n",
       "    </tr>\n",
       "    <tr>\n",
       "      <th>24</th>\n",
       "      <td>13081.0</td>\n",
       "      <td>1061</td>\n",
       "      <td>2489.93</td>\n",
       "      <td>19021</td>\n",
       "      <td>2</td>\n",
       "    </tr>\n",
       "  </tbody>\n",
       "</table>\n",
       "</div>"
      ],
      "text/plain": [
       "    CustomerID  Sales_Country  Total_Revenue  Total_Items_Sold  cluster\n",
       "0      12415.0            778        2499.82             77242        1\n",
       "1      17450.0            351        3320.09             69029        1\n",
       "2      18102.0            433        5159.73             64122        1\n",
       "3      17511.0           1076        2607.08             63012        1\n",
       "4      13694.0            585        1163.81             61803        1\n",
       "5      14298.0           1640        2455.50             58021        1\n",
       "6      14156.0           1420        6544.29             57025        1\n",
       "7      16684.0            281         709.93             49390        1\n",
       "8      15311.0           2491        6267.75             37720        2\n",
       "9      16422.0            399        1248.75             32592        2\n",
       "10     17404.0            201         446.55             32324        2\n",
       "11     16333.0             45          47.98             32184        2\n",
       "12     16029.0            274       24111.14             32148        5\n",
       "13     13089.0           1857        5166.45             30787        2\n",
       "14     15061.0            410        1043.84             28590        2\n",
       "15     15769.0            147         300.67             27660        2\n",
       "16     17949.0             79         727.33             27571        2\n",
       "17     17381.0            110         146.61             25646        2\n",
       "18     12748.0           4642       15115.60             24210        5\n",
       "19     13798.0            439         907.66             23514        2\n",
       "20     12931.0            102         175.53             23377        2\n",
       "21     17841.0           7983       20333.18             22865        5\n",
       "22     12901.0            125         189.19             20915        2\n",
       "23     17857.0             56         559.76             19086        2\n",
       "24     13081.0           1061        2489.93             19021        2"
      ]
     },
     "execution_count": 177,
     "metadata": {},
     "output_type": "execute_result"
    }
   ],
   "source": [
    "clustering[\"cluster\"] = km.labels_\n",
    "clustering.head(25)"
   ]
  }
 ],
 "metadata": {
  "kernelspec": {
   "display_name": "Python 3",
   "language": "python",
   "name": "python3"
  },
  "language_info": {
   "codemirror_mode": {
    "name": "ipython",
    "version": 3
   },
   "file_extension": ".py",
   "mimetype": "text/x-python",
   "name": "python",
   "nbconvert_exporter": "python",
   "pygments_lexer": "ipython3",
   "version": "3.7.3"
  }
 },
 "nbformat": 4,
 "nbformat_minor": 2
}
